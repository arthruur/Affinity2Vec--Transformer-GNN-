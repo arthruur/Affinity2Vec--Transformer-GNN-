{
  "nbformat": 4,
  "nbformat_minor": 0,
  "metadata": {
    "colab": {
      "provenance": [],
      "gpuType": "T4"
    },
    "kernelspec": {
      "name": "python3",
      "display_name": "Python 3"
    },
    "language_info": {
      "name": "python"
    },
    "accelerator": "GPU",
    "widgets": {
      "application/vnd.jupyter.widget-state+json": {
        "c680f438f20644fbaabbe7d381572b4e": {
          "model_module": "@jupyter-widgets/controls",
          "model_name": "HBoxModel",
          "model_module_version": "1.5.0",
          "state": {
            "_dom_classes": [],
            "_model_module": "@jupyter-widgets/controls",
            "_model_module_version": "1.5.0",
            "_model_name": "HBoxModel",
            "_view_count": null,
            "_view_module": "@jupyter-widgets/controls",
            "_view_module_version": "1.5.0",
            "_view_name": "HBoxView",
            "box_style": "",
            "children": [
              "IPY_MODEL_76f816a8380f48aa884bff3888dbdb0d",
              "IPY_MODEL_12a73ae80338454aad243caf53ffcaf7",
              "IPY_MODEL_7ad8045de2fb4cbf82bea9cb71720826"
            ],
            "layout": "IPY_MODEL_80dc9fb7fd0d4d8fa9f8446e586f37a1"
          }
        },
        "76f816a8380f48aa884bff3888dbdb0d": {
          "model_module": "@jupyter-widgets/controls",
          "model_name": "HTMLModel",
          "model_module_version": "1.5.0",
          "state": {
            "_dom_classes": [],
            "_model_module": "@jupyter-widgets/controls",
            "_model_module_version": "1.5.0",
            "_model_name": "HTMLModel",
            "_view_count": null,
            "_view_module": "@jupyter-widgets/controls",
            "_view_module_version": "1.5.0",
            "_view_name": "HTMLView",
            "description": "",
            "description_tooltip": null,
            "layout": "IPY_MODEL_4b84db3b5d33483d9770c9faaed06fa0",
            "placeholder": "​",
            "style": "IPY_MODEL_8b32c10e3c49437ea503fb7cce958edb",
            "value": "100%"
          }
        },
        "12a73ae80338454aad243caf53ffcaf7": {
          "model_module": "@jupyter-widgets/controls",
          "model_name": "FloatProgressModel",
          "model_module_version": "1.5.0",
          "state": {
            "_dom_classes": [],
            "_model_module": "@jupyter-widgets/controls",
            "_model_module_version": "1.5.0",
            "_model_name": "FloatProgressModel",
            "_view_count": null,
            "_view_module": "@jupyter-widgets/controls",
            "_view_module_version": "1.5.0",
            "_view_name": "ProgressView",
            "bar_style": "success",
            "description": "",
            "description_tooltip": null,
            "layout": "IPY_MODEL_024efec2cdb14778abaa47bd405e3aef",
            "max": 1512,
            "min": 0,
            "orientation": "horizontal",
            "style": "IPY_MODEL_75023bfd67e8416e99bac9ea5ce4590b",
            "value": 1512
          }
        },
        "7ad8045de2fb4cbf82bea9cb71720826": {
          "model_module": "@jupyter-widgets/controls",
          "model_name": "HTMLModel",
          "model_module_version": "1.5.0",
          "state": {
            "_dom_classes": [],
            "_model_module": "@jupyter-widgets/controls",
            "_model_module_version": "1.5.0",
            "_model_name": "HTMLModel",
            "_view_count": null,
            "_view_module": "@jupyter-widgets/controls",
            "_view_module_version": "1.5.0",
            "_view_name": "HTMLView",
            "description": "",
            "description_tooltip": null,
            "layout": "IPY_MODEL_523712c06bf746988d8432fa36b7bc18",
            "placeholder": "​",
            "style": "IPY_MODEL_95c6fba633c24af59df9f4090e1a46a9",
            "value": " 1512/1512 [02:56&lt;00:00,  4.55it/s]"
          }
        },
        "80dc9fb7fd0d4d8fa9f8446e586f37a1": {
          "model_module": "@jupyter-widgets/base",
          "model_name": "LayoutModel",
          "model_module_version": "1.2.0",
          "state": {
            "_model_module": "@jupyter-widgets/base",
            "_model_module_version": "1.2.0",
            "_model_name": "LayoutModel",
            "_view_count": null,
            "_view_module": "@jupyter-widgets/base",
            "_view_module_version": "1.2.0",
            "_view_name": "LayoutView",
            "align_content": null,
            "align_items": null,
            "align_self": null,
            "border": null,
            "bottom": null,
            "display": null,
            "flex": null,
            "flex_flow": null,
            "grid_area": null,
            "grid_auto_columns": null,
            "grid_auto_flow": null,
            "grid_auto_rows": null,
            "grid_column": null,
            "grid_gap": null,
            "grid_row": null,
            "grid_template_areas": null,
            "grid_template_columns": null,
            "grid_template_rows": null,
            "height": null,
            "justify_content": null,
            "justify_items": null,
            "left": null,
            "margin": null,
            "max_height": null,
            "max_width": null,
            "min_height": null,
            "min_width": null,
            "object_fit": null,
            "object_position": null,
            "order": null,
            "overflow": null,
            "overflow_x": null,
            "overflow_y": null,
            "padding": null,
            "right": null,
            "top": null,
            "visibility": null,
            "width": null
          }
        },
        "4b84db3b5d33483d9770c9faaed06fa0": {
          "model_module": "@jupyter-widgets/base",
          "model_name": "LayoutModel",
          "model_module_version": "1.2.0",
          "state": {
            "_model_module": "@jupyter-widgets/base",
            "_model_module_version": "1.2.0",
            "_model_name": "LayoutModel",
            "_view_count": null,
            "_view_module": "@jupyter-widgets/base",
            "_view_module_version": "1.2.0",
            "_view_name": "LayoutView",
            "align_content": null,
            "align_items": null,
            "align_self": null,
            "border": null,
            "bottom": null,
            "display": null,
            "flex": null,
            "flex_flow": null,
            "grid_area": null,
            "grid_auto_columns": null,
            "grid_auto_flow": null,
            "grid_auto_rows": null,
            "grid_column": null,
            "grid_gap": null,
            "grid_row": null,
            "grid_template_areas": null,
            "grid_template_columns": null,
            "grid_template_rows": null,
            "height": null,
            "justify_content": null,
            "justify_items": null,
            "left": null,
            "margin": null,
            "max_height": null,
            "max_width": null,
            "min_height": null,
            "min_width": null,
            "object_fit": null,
            "object_position": null,
            "order": null,
            "overflow": null,
            "overflow_x": null,
            "overflow_y": null,
            "padding": null,
            "right": null,
            "top": null,
            "visibility": null,
            "width": null
          }
        },
        "8b32c10e3c49437ea503fb7cce958edb": {
          "model_module": "@jupyter-widgets/controls",
          "model_name": "DescriptionStyleModel",
          "model_module_version": "1.5.0",
          "state": {
            "_model_module": "@jupyter-widgets/controls",
            "_model_module_version": "1.5.0",
            "_model_name": "DescriptionStyleModel",
            "_view_count": null,
            "_view_module": "@jupyter-widgets/base",
            "_view_module_version": "1.2.0",
            "_view_name": "StyleView",
            "description_width": ""
          }
        },
        "024efec2cdb14778abaa47bd405e3aef": {
          "model_module": "@jupyter-widgets/base",
          "model_name": "LayoutModel",
          "model_module_version": "1.2.0",
          "state": {
            "_model_module": "@jupyter-widgets/base",
            "_model_module_version": "1.2.0",
            "_model_name": "LayoutModel",
            "_view_count": null,
            "_view_module": "@jupyter-widgets/base",
            "_view_module_version": "1.2.0",
            "_view_name": "LayoutView",
            "align_content": null,
            "align_items": null,
            "align_self": null,
            "border": null,
            "bottom": null,
            "display": null,
            "flex": null,
            "flex_flow": null,
            "grid_area": null,
            "grid_auto_columns": null,
            "grid_auto_flow": null,
            "grid_auto_rows": null,
            "grid_column": null,
            "grid_gap": null,
            "grid_row": null,
            "grid_template_areas": null,
            "grid_template_columns": null,
            "grid_template_rows": null,
            "height": null,
            "justify_content": null,
            "justify_items": null,
            "left": null,
            "margin": null,
            "max_height": null,
            "max_width": null,
            "min_height": null,
            "min_width": null,
            "object_fit": null,
            "object_position": null,
            "order": null,
            "overflow": null,
            "overflow_x": null,
            "overflow_y": null,
            "padding": null,
            "right": null,
            "top": null,
            "visibility": null,
            "width": null
          }
        },
        "75023bfd67e8416e99bac9ea5ce4590b": {
          "model_module": "@jupyter-widgets/controls",
          "model_name": "ProgressStyleModel",
          "model_module_version": "1.5.0",
          "state": {
            "_model_module": "@jupyter-widgets/controls",
            "_model_module_version": "1.5.0",
            "_model_name": "ProgressStyleModel",
            "_view_count": null,
            "_view_module": "@jupyter-widgets/base",
            "_view_module_version": "1.2.0",
            "_view_name": "StyleView",
            "bar_color": null,
            "description_width": ""
          }
        },
        "523712c06bf746988d8432fa36b7bc18": {
          "model_module": "@jupyter-widgets/base",
          "model_name": "LayoutModel",
          "model_module_version": "1.2.0",
          "state": {
            "_model_module": "@jupyter-widgets/base",
            "_model_module_version": "1.2.0",
            "_model_name": "LayoutModel",
            "_view_count": null,
            "_view_module": "@jupyter-widgets/base",
            "_view_module_version": "1.2.0",
            "_view_name": "LayoutView",
            "align_content": null,
            "align_items": null,
            "align_self": null,
            "border": null,
            "bottom": null,
            "display": null,
            "flex": null,
            "flex_flow": null,
            "grid_area": null,
            "grid_auto_columns": null,
            "grid_auto_flow": null,
            "grid_auto_rows": null,
            "grid_column": null,
            "grid_gap": null,
            "grid_row": null,
            "grid_template_areas": null,
            "grid_template_columns": null,
            "grid_template_rows": null,
            "height": null,
            "justify_content": null,
            "justify_items": null,
            "left": null,
            "margin": null,
            "max_height": null,
            "max_width": null,
            "min_height": null,
            "min_width": null,
            "object_fit": null,
            "object_position": null,
            "order": null,
            "overflow": null,
            "overflow_x": null,
            "overflow_y": null,
            "padding": null,
            "right": null,
            "top": null,
            "visibility": null,
            "width": null
          }
        },
        "95c6fba633c24af59df9f4090e1a46a9": {
          "model_module": "@jupyter-widgets/controls",
          "model_name": "DescriptionStyleModel",
          "model_module_version": "1.5.0",
          "state": {
            "_model_module": "@jupyter-widgets/controls",
            "_model_module_version": "1.5.0",
            "_model_name": "DescriptionStyleModel",
            "_view_count": null,
            "_view_module": "@jupyter-widgets/base",
            "_view_module_version": "1.2.0",
            "_view_name": "StyleView",
            "description_width": ""
          }
        },
        "5dd32d1c8927454bbf143c78bea9e7db": {
          "model_module": "@jupyter-widgets/controls",
          "model_name": "HBoxModel",
          "model_module_version": "1.5.0",
          "state": {
            "_dom_classes": [],
            "_model_module": "@jupyter-widgets/controls",
            "_model_module_version": "1.5.0",
            "_model_name": "HBoxModel",
            "_view_count": null,
            "_view_module": "@jupyter-widgets/controls",
            "_view_module_version": "1.5.0",
            "_view_name": "HBoxView",
            "box_style": "",
            "children": [
              "IPY_MODEL_695dac5565864f56b1a74251627d3cf0",
              "IPY_MODEL_7a6621ab00e7426c86c590c002f51fb8",
              "IPY_MODEL_4ac001598a004b6cbd933954a4646221"
            ],
            "layout": "IPY_MODEL_eb2047d925204fc1ab6b74cc31d4f4ae"
          }
        },
        "695dac5565864f56b1a74251627d3cf0": {
          "model_module": "@jupyter-widgets/controls",
          "model_name": "HTMLModel",
          "model_module_version": "1.5.0",
          "state": {
            "_dom_classes": [],
            "_model_module": "@jupyter-widgets/controls",
            "_model_module_version": "1.5.0",
            "_model_name": "HTMLModel",
            "_view_count": null,
            "_view_module": "@jupyter-widgets/controls",
            "_view_module_version": "1.5.0",
            "_view_name": "HTMLView",
            "description": "",
            "description_tooltip": null,
            "layout": "IPY_MODEL_d407a7bc504a409f97c993094dd7f240",
            "placeholder": "​",
            "style": "IPY_MODEL_66c4d31e8d2648f5a53842030592f082",
            "value": "100%"
          }
        },
        "7a6621ab00e7426c86c590c002f51fb8": {
          "model_module": "@jupyter-widgets/controls",
          "model_name": "FloatProgressModel",
          "model_module_version": "1.5.0",
          "state": {
            "_dom_classes": [],
            "_model_module": "@jupyter-widgets/controls",
            "_model_module_version": "1.5.0",
            "_model_name": "FloatProgressModel",
            "_view_count": null,
            "_view_module": "@jupyter-widgets/controls",
            "_view_module_version": "1.5.0",
            "_view_name": "ProgressView",
            "bar_style": "success",
            "description": "",
            "description_tooltip": null,
            "layout": "IPY_MODEL_13a27118e8a3448bb6ec35df31004c8a",
            "max": 3340,
            "min": 0,
            "orientation": "horizontal",
            "style": "IPY_MODEL_5d00a3953a1d449d913a8ec4ff732917",
            "value": 3340
          }
        },
        "4ac001598a004b6cbd933954a4646221": {
          "model_module": "@jupyter-widgets/controls",
          "model_name": "HTMLModel",
          "model_module_version": "1.5.0",
          "state": {
            "_dom_classes": [],
            "_model_module": "@jupyter-widgets/controls",
            "_model_module_version": "1.5.0",
            "_model_name": "HTMLModel",
            "_view_count": null,
            "_view_module": "@jupyter-widgets/controls",
            "_view_module_version": "1.5.0",
            "_view_name": "HTMLView",
            "description": "",
            "description_tooltip": null,
            "layout": "IPY_MODEL_9beac89136a24301a50de4911f769780",
            "placeholder": "​",
            "style": "IPY_MODEL_87ea57277c89480f8cfccd958a711190",
            "value": " 3340/3340 [00:20&lt;00:00, 126.52it/s]"
          }
        },
        "eb2047d925204fc1ab6b74cc31d4f4ae": {
          "model_module": "@jupyter-widgets/base",
          "model_name": "LayoutModel",
          "model_module_version": "1.2.0",
          "state": {
            "_model_module": "@jupyter-widgets/base",
            "_model_module_version": "1.2.0",
            "_model_name": "LayoutModel",
            "_view_count": null,
            "_view_module": "@jupyter-widgets/base",
            "_view_module_version": "1.2.0",
            "_view_name": "LayoutView",
            "align_content": null,
            "align_items": null,
            "align_self": null,
            "border": null,
            "bottom": null,
            "display": null,
            "flex": null,
            "flex_flow": null,
            "grid_area": null,
            "grid_auto_columns": null,
            "grid_auto_flow": null,
            "grid_auto_rows": null,
            "grid_column": null,
            "grid_gap": null,
            "grid_row": null,
            "grid_template_areas": null,
            "grid_template_columns": null,
            "grid_template_rows": null,
            "height": null,
            "justify_content": null,
            "justify_items": null,
            "left": null,
            "margin": null,
            "max_height": null,
            "max_width": null,
            "min_height": null,
            "min_width": null,
            "object_fit": null,
            "object_position": null,
            "order": null,
            "overflow": null,
            "overflow_x": null,
            "overflow_y": null,
            "padding": null,
            "right": null,
            "top": null,
            "visibility": null,
            "width": null
          }
        },
        "d407a7bc504a409f97c993094dd7f240": {
          "model_module": "@jupyter-widgets/base",
          "model_name": "LayoutModel",
          "model_module_version": "1.2.0",
          "state": {
            "_model_module": "@jupyter-widgets/base",
            "_model_module_version": "1.2.0",
            "_model_name": "LayoutModel",
            "_view_count": null,
            "_view_module": "@jupyter-widgets/base",
            "_view_module_version": "1.2.0",
            "_view_name": "LayoutView",
            "align_content": null,
            "align_items": null,
            "align_self": null,
            "border": null,
            "bottom": null,
            "display": null,
            "flex": null,
            "flex_flow": null,
            "grid_area": null,
            "grid_auto_columns": null,
            "grid_auto_flow": null,
            "grid_auto_rows": null,
            "grid_column": null,
            "grid_gap": null,
            "grid_row": null,
            "grid_template_areas": null,
            "grid_template_columns": null,
            "grid_template_rows": null,
            "height": null,
            "justify_content": null,
            "justify_items": null,
            "left": null,
            "margin": null,
            "max_height": null,
            "max_width": null,
            "min_height": null,
            "min_width": null,
            "object_fit": null,
            "object_position": null,
            "order": null,
            "overflow": null,
            "overflow_x": null,
            "overflow_y": null,
            "padding": null,
            "right": null,
            "top": null,
            "visibility": null,
            "width": null
          }
        },
        "66c4d31e8d2648f5a53842030592f082": {
          "model_module": "@jupyter-widgets/controls",
          "model_name": "DescriptionStyleModel",
          "model_module_version": "1.5.0",
          "state": {
            "_model_module": "@jupyter-widgets/controls",
            "_model_module_version": "1.5.0",
            "_model_name": "DescriptionStyleModel",
            "_view_count": null,
            "_view_module": "@jupyter-widgets/base",
            "_view_module_version": "1.2.0",
            "_view_name": "StyleView",
            "description_width": ""
          }
        },
        "13a27118e8a3448bb6ec35df31004c8a": {
          "model_module": "@jupyter-widgets/base",
          "model_name": "LayoutModel",
          "model_module_version": "1.2.0",
          "state": {
            "_model_module": "@jupyter-widgets/base",
            "_model_module_version": "1.2.0",
            "_model_name": "LayoutModel",
            "_view_count": null,
            "_view_module": "@jupyter-widgets/base",
            "_view_module_version": "1.2.0",
            "_view_name": "LayoutView",
            "align_content": null,
            "align_items": null,
            "align_self": null,
            "border": null,
            "bottom": null,
            "display": null,
            "flex": null,
            "flex_flow": null,
            "grid_area": null,
            "grid_auto_columns": null,
            "grid_auto_flow": null,
            "grid_auto_rows": null,
            "grid_column": null,
            "grid_gap": null,
            "grid_row": null,
            "grid_template_areas": null,
            "grid_template_columns": null,
            "grid_template_rows": null,
            "height": null,
            "justify_content": null,
            "justify_items": null,
            "left": null,
            "margin": null,
            "max_height": null,
            "max_width": null,
            "min_height": null,
            "min_width": null,
            "object_fit": null,
            "object_position": null,
            "order": null,
            "overflow": null,
            "overflow_x": null,
            "overflow_y": null,
            "padding": null,
            "right": null,
            "top": null,
            "visibility": null,
            "width": null
          }
        },
        "5d00a3953a1d449d913a8ec4ff732917": {
          "model_module": "@jupyter-widgets/controls",
          "model_name": "ProgressStyleModel",
          "model_module_version": "1.5.0",
          "state": {
            "_model_module": "@jupyter-widgets/controls",
            "_model_module_version": "1.5.0",
            "_model_name": "ProgressStyleModel",
            "_view_count": null,
            "_view_module": "@jupyter-widgets/base",
            "_view_module_version": "1.2.0",
            "_view_name": "StyleView",
            "bar_color": null,
            "description_width": ""
          }
        },
        "9beac89136a24301a50de4911f769780": {
          "model_module": "@jupyter-widgets/base",
          "model_name": "LayoutModel",
          "model_module_version": "1.2.0",
          "state": {
            "_model_module": "@jupyter-widgets/base",
            "_model_module_version": "1.2.0",
            "_model_name": "LayoutModel",
            "_view_count": null,
            "_view_module": "@jupyter-widgets/base",
            "_view_module_version": "1.2.0",
            "_view_name": "LayoutView",
            "align_content": null,
            "align_items": null,
            "align_self": null,
            "border": null,
            "bottom": null,
            "display": null,
            "flex": null,
            "flex_flow": null,
            "grid_area": null,
            "grid_auto_columns": null,
            "grid_auto_flow": null,
            "grid_auto_rows": null,
            "grid_column": null,
            "grid_gap": null,
            "grid_row": null,
            "grid_template_areas": null,
            "grid_template_columns": null,
            "grid_template_rows": null,
            "height": null,
            "justify_content": null,
            "justify_items": null,
            "left": null,
            "margin": null,
            "max_height": null,
            "max_width": null,
            "min_height": null,
            "min_width": null,
            "object_fit": null,
            "object_position": null,
            "order": null,
            "overflow": null,
            "overflow_x": null,
            "overflow_y": null,
            "padding": null,
            "right": null,
            "top": null,
            "visibility": null,
            "width": null
          }
        },
        "87ea57277c89480f8cfccd958a711190": {
          "model_module": "@jupyter-widgets/controls",
          "model_name": "DescriptionStyleModel",
          "model_module_version": "1.5.0",
          "state": {
            "_model_module": "@jupyter-widgets/controls",
            "_model_module_version": "1.5.0",
            "_model_name": "DescriptionStyleModel",
            "_view_count": null,
            "_view_module": "@jupyter-widgets/base",
            "_view_module_version": "1.2.0",
            "_view_name": "StyleView",
            "description_width": ""
          }
        }
      }
    }
  },
  "cells": [
    {
      "cell_type": "markdown",
      "source": [
        "O objetivo dessa abordagem é substituir a forma como os embeddings de drogas e proteínas são gerados, trocando os modelos antigos por Transformers pré-treinados, que são muito mais poderosos."
      ],
      "metadata": {
        "id": "n58u3kn8RYF-"
      }
    },
    {
      "cell_type": "code",
      "source": [
        "from google.colab import drive\n",
        "drive.mount('/content/drive')"
      ],
      "metadata": {
        "id": "m_BU95jQTchz"
      },
      "execution_count": null,
      "outputs": []
    },
    {
      "cell_type": "code",
      "source": [
        "from google.colab import drive\n",
        "import sys\n",
        "import os\n",
        "\n",
        "# 1. Montar o Google Drive\n",
        "drive.mount('/content/drive')\n",
        "\n",
        "# 2. Definir o caminho do projeto e mudar o diretório de trabalho\n",
        "project_path = '/content/drive/MyDrive/Affinity2Vec_Collab'\n",
        "os.chdir(project_path) # Usar os.chdir é mais robusto dentro de scripts\n",
        "\n",
        "# 3. Adicionar o caminho do projeto ao sys.path\n",
        "#    Esta é a parte que resolve o problema de importação!\n",
        "if project_path not in sys.path:\n",
        "  sys.path.append(project_path)\n",
        "\n",
        "print(f\"Diretório de trabalho atual: {os.getcwd()}\")"
      ],
      "metadata": {
        "colab": {
          "base_uri": "https://localhost:8080/"
        },
        "id": "r13FZhMzTnM0",
        "outputId": "a9ee6ffd-c0f2-4a15-c1c3-189f13e7e8db"
      },
      "execution_count": null,
      "outputs": [
        {
          "output_type": "stream",
          "name": "stdout",
          "text": [
            "Drive already mounted at /content/drive; to attempt to forcibly remount, call drive.mount(\"/content/drive\", force_remount=True).\n",
            "Diretório de trabalho atual: /content/drive/MyDrive/Affinity2Vec_Collab\n"
          ]
        }
      ]
    },
    {
      "cell_type": "code",
      "execution_count": null,
      "metadata": {
        "id": "Ot1t9xwWRQQ-"
      },
      "outputs": [],
      "source": [
        "# Instala as bibliotecas necessárias da Hugging Face e para deep learning\n",
        "!pip install transformers torch sentencepiece"
      ]
    },
    {
      "cell_type": "code",
      "source": [
        "input_folder = \"Input/ChEMBL/\"\n",
        "drugFile = input_folder+\"compoundsChEMBL34_SMILESgreaterThan5.tsv\"\n",
        "targetFile= input_folder+\"targetsChEMBL34_noRepo3D.tsv\""
      ],
      "metadata": {
        "id": "T3aWDUPvUUQp"
      },
      "execution_count": null,
      "outputs": []
    },
    {
      "cell_type": "markdown",
      "source": [
        "## Gerar os Novos Embeddings de Proteínas com ESM-2\n",
        "\n",
        "A seguinte função recebe uma sequência de aminoácidos e usa o modelo ESM-2 (Evolutionary Scale Modeling) da Meta AI para gerar um embedding de alta qualidade."
      ],
      "metadata": {
        "id": "d4r7IGh9Sj9Y"
      }
    },
    {
      "cell_type": "code",
      "source": [
        "import torch\n",
        "from transformers import AutoTokenizer, EsmModel\n",
        "import pandas as pd\n",
        "import numpy as np\n",
        "from tqdm.notebook import tqdm # Para uma barra de progresso\n",
        "\n",
        "# --- Função para gerar embeddings de proteínas ---\n",
        "def get_protein_embedding(sequence, tokenizer, model, device):\n",
        "    \"\"\"Gera um embedding para uma única sequência de proteína usando ESM-2.\"\"\"\n",
        "    # Tokeniza a sequência\n",
        "    inputs = tokenizer(sequence, return_tensors='pt', truncation=True, max_length=1022)\n",
        "\n",
        "    # Mover os inputs para a GPU, se disponível\n",
        "    inputs = {key: val.to(device) for key, val in inputs.items()}\n",
        "\n",
        "    # Desativar o cálculo de gradiente para economizar memória e acelerar\n",
        "    with torch.no_grad():\n",
        "        # Passar a sequência pelo modelo\n",
        "        outputs = model(**inputs)\n",
        "\n",
        "    # Extrair os embeddings da última camada oculta\n",
        "    # Usamos a média de todos os embeddings de tokens para obter um único vetor para a proteína inteira\n",
        "    embedding = outputs.last_hidden_state.mean(dim=1).squeeze()\n",
        "\n",
        "    # Mover o embedding de volta para a CPU e converter para NumPy\n",
        "    return embedding.cpu().numpy()\n",
        "\n",
        "# --- Script principal para gerar todos os embeddings de proteínas ---\n",
        "print(\"Configurando o modelo ESM-2...\")\n",
        "# Verificar se a GPU está disponível\n",
        "device = torch.device(\"cuda\" if torch.cuda.is_available() else \"cpu\")\n",
        "print(f\"Usando o dispositivo: {device}\")\n",
        "\n",
        "# Carregar o tokenizador e o modelo ESM-2 pré-treinado\n",
        "# 'esm2_t30_150M_UR50D' é um modelo de tamanho médio, bom para começar\n",
        "tokenizer_prot = AutoTokenizer.from_pretrained(\"facebook/esm2_t30_150M_UR50D\")\n",
        "model_prot = EsmModel.from_pretrained(\"facebook/esm2_t30_150M_UR50D\").to(device)\n",
        "\n",
        "# Carregar seu arquivo de alvos (proteínas)\n",
        "# ATENÇÃO: Monte seu Google Drive e ajuste o caminho se necessário\n",
        "target_df = pd.read_csv(\"Input/ChEMBL/targetsChEMBL34_noRepo3D.tsv\", sep='\\t')\n",
        "\n",
        "# A coluna com o ID do alvo é 'target' e a com a sequência é 'FASTA'\n",
        "protein_sequences = target_df[['target', 'FASTA']].dropna().drop_duplicates(subset='target')\n",
        "\n",
        "print(f\"Gerando embeddings para {len(protein_sequences)} proteínas...\")\n",
        "protein_embeddings = {}\n",
        "for index, row in tqdm(protein_sequences.iterrows(), total=len(protein_sequences)):\n",
        "    seq_id = row['target']\n",
        "    sequence = row['FASTA'] # Usar a coluna 'FASTA'\n",
        "    try:\n",
        "        embedding = get_protein_embedding(sequence, tokenizer_prot, model_prot, device)\n",
        "        protein_embeddings[seq_id] = embedding\n",
        "    except Exception as e:\n",
        "        print(f\"Erro ao processar a proteína {seq_id}: {e}\")\n",
        "\n",
        "# Converter o dicionário de embeddings para um DataFrame\n",
        "protein_embedding_df = pd.DataFrame.from_dict(protein_embeddings, orient='index')\n",
        "protein_embedding_df.index.name = 'target_id'\n",
        "\n",
        "# Salvar os novos embeddings em um arquivo\n",
        "protein_embedding_df.to_csv(\"EMBED/ChEMBL/Pr_ESM2_EMBED.tsv\", sep='\\t')\n",
        "print(\"\\nEmbeddings de proteínas salvos com sucesso!\")\n"
      ],
      "metadata": {
        "colab": {
          "base_uri": "https://localhost:8080/",
          "height": 194,
          "referenced_widgets": [
            "c680f438f20644fbaabbe7d381572b4e",
            "76f816a8380f48aa884bff3888dbdb0d",
            "12a73ae80338454aad243caf53ffcaf7",
            "7ad8045de2fb4cbf82bea9cb71720826",
            "80dc9fb7fd0d4d8fa9f8446e586f37a1",
            "4b84db3b5d33483d9770c9faaed06fa0",
            "8b32c10e3c49437ea503fb7cce958edb",
            "024efec2cdb14778abaa47bd405e3aef",
            "75023bfd67e8416e99bac9ea5ce4590b",
            "523712c06bf746988d8432fa36b7bc18",
            "95c6fba633c24af59df9f4090e1a46a9"
          ]
        },
        "id": "YI3l2X0bS2Rs",
        "outputId": "71d7c256-ebda-4599-e96d-5af9dd618f9a"
      },
      "execution_count": null,
      "outputs": [
        {
          "output_type": "stream",
          "name": "stdout",
          "text": [
            "Configurando o modelo ESM-2...\n",
            "Usando o dispositivo: cuda\n"
          ]
        },
        {
          "output_type": "stream",
          "name": "stderr",
          "text": [
            "Some weights of EsmModel were not initialized from the model checkpoint at facebook/esm2_t30_150M_UR50D and are newly initialized: ['pooler.dense.bias', 'pooler.dense.weight']\n",
            "You should probably TRAIN this model on a down-stream task to be able to use it for predictions and inference.\n"
          ]
        },
        {
          "output_type": "stream",
          "name": "stdout",
          "text": [
            "Gerando embeddings para 1512 proteínas...\n"
          ]
        },
        {
          "output_type": "display_data",
          "data": {
            "text/plain": [
              "  0%|          | 0/1512 [00:00<?, ?it/s]"
            ],
            "application/vnd.jupyter.widget-view+json": {
              "version_major": 2,
              "version_minor": 0,
              "model_id": "c680f438f20644fbaabbe7d381572b4e"
            }
          },
          "metadata": {}
        },
        {
          "output_type": "stream",
          "name": "stdout",
          "text": [
            "\n",
            "Embeddings de proteínas salvos com sucesso!\n"
          ]
        }
      ]
    },
    {
      "cell_type": "markdown",
      "source": [
        "## Gerar os Novos Embeddings de Drogas com ChemBERTa\n",
        "\n",
        "O processo para as proteínas é muito similar para as drogas, mas usando um modelo treinado em moléculas (SMILES). Vamos usar o ChemBERTa."
      ],
      "metadata": {
        "id": "W1ZwZzffS4zp"
      }
    },
    {
      "cell_type": "code",
      "source": [
        "import torch\n",
        "from transformers import AutoTokenizer, AutoModel\n",
        "import pandas as pd\n",
        "from tqdm.notebook import tqdm\n",
        "\n",
        "# --- Função para gerar embeddings de drogas ---\n",
        "def get_drug_embedding(smiles, tokenizer, model, device):\n",
        "    \"\"\"Gera um embedding para uma única string SMILES usando ChemBERTa.\"\"\"\n",
        "    inputs = tokenizer(smiles, return_tensors='pt', truncation=True, max_length=512)\n",
        "    inputs = {key: val.to(device) for key, val in inputs.items()}\n",
        "\n",
        "    with torch.no_grad():\n",
        "        outputs = model(**inputs)\n",
        "\n",
        "    # Usar o embedding do token [CLS] (primeiro token) como representação da molécula\n",
        "    embedding = outputs.last_hidden_state[:, 0, :].squeeze()\n",
        "    return embedding.cpu().numpy()\n",
        "\n",
        "# --- Script principal para gerar todos os embeddings de drogas ---\n",
        "print(\"\\nConfigurando o modelo ChemBERTa...\")\n",
        "device = torch.device(\"cuda\" if torch.cuda.is_available() else \"cpu\")\n",
        "print(f\"Usando o dispositivo: {device}\")\n",
        "\n",
        "# Carregar o tokenizador e o modelo ChemBERTa pré-treinado\n",
        "tokenizer_drug = AutoTokenizer.from_pretrained(\"seyonec/ChemBERTa-zinc-base-v1\")\n",
        "model_drug = AutoModel.from_pretrained(\"seyonec/ChemBERTa-zinc-base-v1\").to(device)\n",
        "\n",
        "# Carregar seu arquivo de compostos (drogas)\n",
        "drug_df = pd.read_csv(drugFile, sep='\\t')\n",
        "drug_smiles = drug_df[['compound', 'SMILES']].dropna().drop_duplicates(subset='compound')\n",
        "\n",
        "print(f\"Gerando embeddings para {len(drug_smiles)} drogas...\")\n",
        "drug_embeddings = {}\n",
        "for index, row in tqdm(drug_smiles.iterrows(), total=len(drug_smiles)):\n",
        "    drug_id = row['compound']\n",
        "    smiles = row['SMILES']\n",
        "    try:\n",
        "        embedding = get_drug_embedding(smiles, tokenizer_drug, model_drug, device)\n",
        "        drug_embeddings[drug_id] = embedding\n",
        "    except Exception as e:\n",
        "        print(f\"Erro ao processar a droga {drug_id}: {e}\")\n",
        "\n",
        "# Converter para DataFrame\n",
        "drug_embedding_df = pd.DataFrame.from_dict(drug_embeddings, orient='index')\n",
        "drug_embedding_df.index.name = 'drug_id'\n",
        "\n",
        "# Salvar os novos embeddings\n",
        "drug_embedding_df.to_csv(\"EMBED/ChEMBL/Dr_ChemBERTa_EMBED.tsv\", sep='\\t')\n",
        "print(\"\\nEmbeddings de drogas salvos com sucesso!\")\n"
      ],
      "metadata": {
        "colab": {
          "base_uri": "https://localhost:8080/",
          "height": 156,
          "referenced_widgets": [
            "5dd32d1c8927454bbf143c78bea9e7db",
            "695dac5565864f56b1a74251627d3cf0",
            "7a6621ab00e7426c86c590c002f51fb8",
            "4ac001598a004b6cbd933954a4646221",
            "eb2047d925204fc1ab6b74cc31d4f4ae",
            "d407a7bc504a409f97c993094dd7f240",
            "66c4d31e8d2648f5a53842030592f082",
            "13a27118e8a3448bb6ec35df31004c8a",
            "5d00a3953a1d449d913a8ec4ff732917",
            "9beac89136a24301a50de4911f769780",
            "87ea57277c89480f8cfccd958a711190"
          ]
        },
        "id": "_aaWG-2iV4mx",
        "outputId": "4c07dd7f-0b97-473f-9940-a649db709ef9"
      },
      "execution_count": null,
      "outputs": [
        {
          "output_type": "stream",
          "name": "stdout",
          "text": [
            "\n",
            "Configurando o modelo ChemBERTa...\n",
            "Usando o dispositivo: cuda\n",
            "Gerando embeddings para 3340 drogas...\n"
          ]
        },
        {
          "output_type": "display_data",
          "data": {
            "text/plain": [
              "  0%|          | 0/3340 [00:00<?, ?it/s]"
            ],
            "application/vnd.jupyter.widget-view+json": {
              "version_major": 2,
              "version_minor": 0,
              "model_id": "5dd32d1c8927454bbf143c78bea9e7db"
            }
          },
          "metadata": {}
        },
        {
          "output_type": "stream",
          "name": "stdout",
          "text": [
            "\n",
            "Embeddings de drogas salvos com sucesso!\n"
          ]
        }
      ]
    }
  ]
}